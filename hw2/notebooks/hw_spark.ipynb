{
 "cells": [
  {
   "cell_type": "code",
   "execution_count": 1,
   "id": "1b07047f-91e6-49d1-98d1-f5727e141b06",
   "metadata": {},
   "outputs": [
    {
     "name": "stdout",
     "output_type": "stream",
     "text": [
      "Safe mode is OFF\n"
     ]
    }
   ],
   "source": [
    "!hdfs dfsadmin -safemode leave"
   ]
  },
  {
   "cell_type": "markdown",
   "id": "58ea8514-6e0d-472f-891b-75931fac5084",
   "metadata": {},
   "source": [
    "# BLOCK 1"
   ]
  },
  {
   "cell_type": "code",
   "execution_count": 1,
   "id": "12059ab4-e521-4011-80e3-691949afb025",
   "metadata": {},
   "outputs": [],
   "source": [
    "import pyspark\n",
    "from pyspark import SparkContext, SparkConf\n",
    "from pyspark.sql import SparkSession"
   ]
  },
  {
   "cell_type": "code",
   "execution_count": 2,
   "id": "ebf58187-6793-42ea-8ae6-f186e237ae3a",
   "metadata": {},
   "outputs": [],
   "source": [
    "conf = SparkConf().set(\"spark.executor.instances\", \"2\").set(\"spark.executor.cores\", \"1\").set(\"spark.executor.memory\", \"1g\")"
   ]
  },
  {
   "cell_type": "code",
   "execution_count": 3,
   "id": "736b804d-443e-445b-af4b-5b1f8f829ee3",
   "metadata": {},
   "outputs": [
    {
     "name": "stderr",
     "output_type": "stream",
     "text": [
      "Setting default log level to \"WARN\".\n",
      "To adjust logging level use sc.setLogLevel(newLevel). For SparkR, use setLogLevel(newLevel).\n",
      "23/12/14 23:43:53 WARN Client: Neither spark.yarn.jars nor spark.yarn.archive is set, falling back to uploading libraries under SPARK_HOME.\n"
     ]
    }
   ],
   "source": [
    "spark = SparkSession.builder.master(\"yarn\").appName(\"vorkhlik_spark\").getOrCreate()"
   ]
  },
  {
   "cell_type": "code",
   "execution_count": 5,
   "id": "44ff35b1-8f48-4108-a73c-ca07d85cb912",
   "metadata": {},
   "outputs": [
    {
     "name": "stdout",
     "output_type": "stream",
     "text": [
      "rm: `ml-latest-small': No such file or directory\n"
     ]
    }
   ],
   "source": [
    "!hdfs dfs -rm -r ml-latest-small\n",
    "!hdfs dfs -put ml-latest-small ."
   ]
  },
  {
   "cell_type": "code",
   "execution_count": 4,
   "id": "bd937469-c627-483e-b831-11aafcfb4800",
   "metadata": {},
   "outputs": [],
   "source": [
    "from pyspark.sql.types import *"
   ]
  },
  {
   "cell_type": "code",
   "execution_count": 5,
   "id": "56adbf45-ada6-4bdd-a546-02c10cb3cab4",
   "metadata": {},
   "outputs": [],
   "source": [
    "tags_schema = StructType([\n",
    "    StructField(\"userId\", IntegerType(), True), \n",
    "    StructField(\"movieId\", IntegerType(), True), \n",
    "    StructField(\"tag\", StringType(), True), \n",
    "    StructField(\"timestamp\", LongType(), True)])\n",
    "\n",
    "ratings_schema = StructType(fields=[\n",
    "    StructField(\"userId\", IntegerType()),\n",
    "    StructField(\"movieId\", IntegerType()),\n",
    "    StructField(\"rating\", DoubleType()),\n",
    "    StructField(\"timestamp\", LongType()),\n",
    "])"
   ]
  },
  {
   "cell_type": "code",
   "execution_count": 6,
   "id": "c8a04933-7c16-4cb4-a6a6-7614ebab6f5b",
   "metadata": {},
   "outputs": [
    {
     "name": "stdout",
     "output_type": "stream",
     "text": [
      "CPU times: user 9.98 ms, sys: 3.98 ms, total: 14 ms\n",
      "Wall time: 11.2 s\n"
     ]
    }
   ],
   "source": [
    "%%time\n",
    "ratings_df = spark\\\n",
    "    .read\\\n",
    "    .format(\"csv\")\\\n",
    "    .option(\"header\", \"True\")\\\n",
    "    .schema(ratings_schema)\\\n",
    "    .load(\"ml-latest-small/ratings.csv\")"
   ]
  },
  {
   "cell_type": "code",
   "execution_count": 7,
   "id": "b968ee25-8f4b-4350-a8ab-52a039d0fcf8",
   "metadata": {},
   "outputs": [
    {
     "name": "stdout",
     "output_type": "stream",
     "text": [
      "CPU times: user 13.8 ms, sys: 5.7 ms, total: 19.5 ms\n",
      "Wall time: 391 ms\n"
     ]
    }
   ],
   "source": [
    "%%time\n",
    "tags_df = spark\\\n",
    "    .read\\\n",
    "    .format(\"csv\")\\\n",
    "    .option(\"header\", \"True\")\\\n",
    "    .schema(tags_schema)\\\n",
    "    .load(\"ml-latest-small/tags.csv\")"
   ]
  },
  {
   "cell_type": "code",
   "execution_count": 32,
   "id": "94f22169-c0cd-4e13-9c8b-55650214ea7f",
   "metadata": {},
   "outputs": [
    {
     "name": "stdout",
     "output_type": "stream",
     "text": [
      "3683 100836\n"
     ]
    }
   ],
   "source": [
    "print(tags_df.count(), ratings_df.count())"
   ]
  },
  {
   "cell_type": "markdown",
   "id": "ffc9f2b5-0053-4563-b71d-93bbf1aa3716",
   "metadata": {},
   "source": [
    "Для расчета было выполнено 2 стейджа для каждой операции count, в каждом стейдже 1 таска"
   ]
  },
  {
   "cell_type": "markdown",
   "id": "c99d7888-e594-4277-b885-2f5664fbde51",
   "metadata": {},
   "source": [
    "# BLOCK 2"
   ]
  },
  {
   "cell_type": "code",
   "execution_count": 33,
   "id": "b53f881e-1a83-41e7-9ffb-7ac867148242",
   "metadata": {},
   "outputs": [
    {
     "name": "stderr",
     "output_type": "stream",
     "text": [
      "                                                                                \r"
     ]
    },
    {
     "name": "stdout",
     "output_type": "stream",
     "text": [
      "+------+-------+-----------------+----------+\n",
      "|userId|movieId|              tag| timestamp|\n",
      "+------+-------+-----------------+----------+\n",
      "|     2|  60756|            funny|1445714994|\n",
      "|     2|  60756|  Highly quotable|1445714996|\n",
      "|     2|  60756|     will ferrell|1445714992|\n",
      "|     2|  89774|     Boxing story|1445715207|\n",
      "|     2|  89774|              MMA|1445715200|\n",
      "|     2|  89774|        Tom Hardy|1445715205|\n",
      "|     2| 106782|            drugs|1445715054|\n",
      "|     2| 106782|Leonardo DiCaprio|1445715051|\n",
      "|     2| 106782|  Martin Scorsese|1445715056|\n",
      "|     7|  48516|     way too long|1169687325|\n",
      "|    18|    431|        Al Pacino|1462138765|\n",
      "|    18|    431|         gangster|1462138749|\n",
      "|    18|    431|            mafia|1462138755|\n",
      "|    18|   1221|        Al Pacino|1461699306|\n",
      "|    18|   1221|            Mafia|1461699303|\n",
      "|    18|   5995|        holocaust|1455735472|\n",
      "|    18|   5995|       true story|1455735479|\n",
      "|    18|  44665|     twist ending|1456948283|\n",
      "|    18|  52604|  Anthony Hopkins|1457650696|\n",
      "|    18|  52604|  courtroom drama|1457650711|\n",
      "+------+-------+-----------------+----------+\n",
      "only showing top 20 rows\n",
      "\n"
     ]
    }
   ],
   "source": [
    "tags_df.show()"
   ]
  },
  {
   "cell_type": "code",
   "execution_count": 34,
   "id": "0d29f8f8-e8e4-4dbc-b99b-da3e88bb60e0",
   "metadata": {},
   "outputs": [
    {
     "name": "stderr",
     "output_type": "stream",
     "text": [
      "[Stage 25:>                                                         (0 + 1) / 1]\r"
     ]
    },
    {
     "name": "stdout",
     "output_type": "stream",
     "text": [
      "+------+-------+------+---------+\n",
      "|userId|movieId|rating|timestamp|\n",
      "+------+-------+------+---------+\n",
      "|     1|      1|   4.0|964982703|\n",
      "|     1|      3|   4.0|964981247|\n",
      "|     1|      6|   4.0|964982224|\n",
      "|     1|     47|   5.0|964983815|\n",
      "|     1|     50|   5.0|964982931|\n",
      "|     1|     70|   3.0|964982400|\n",
      "|     1|    101|   5.0|964980868|\n",
      "|     1|    110|   4.0|964982176|\n",
      "|     1|    151|   5.0|964984041|\n",
      "|     1|    157|   5.0|964984100|\n",
      "|     1|    163|   5.0|964983650|\n",
      "|     1|    216|   5.0|964981208|\n",
      "|     1|    223|   3.0|964980985|\n",
      "|     1|    231|   5.0|964981179|\n",
      "|     1|    235|   4.0|964980908|\n",
      "|     1|    260|   5.0|964981680|\n",
      "|     1|    296|   3.0|964982967|\n",
      "|     1|    316|   3.0|964982310|\n",
      "|     1|    333|   5.0|964981179|\n",
      "|     1|    349|   4.0|964982563|\n",
      "+------+-------+------+---------+\n",
      "only showing top 20 rows\n",
      "\n"
     ]
    },
    {
     "name": "stderr",
     "output_type": "stream",
     "text": [
      "                                                                                \r"
     ]
    }
   ],
   "source": [
    "ratings_df.show()"
   ]
  },
  {
   "cell_type": "code",
   "execution_count": 35,
   "id": "2924e465-ce35-4737-8146-28c4e1bc2412",
   "metadata": {},
   "outputs": [
    {
     "name": "stderr",
     "output_type": "stream",
     "text": [
      "[Stage 32:>                                                         (0 + 1) / 1]\r"
     ]
    },
    {
     "name": "stdout",
     "output_type": "stream",
     "text": [
      "Unique Movies: 9724, Unique Users: 610\n"
     ]
    },
    {
     "name": "stderr",
     "output_type": "stream",
     "text": [
      "                                                                                \r"
     ]
    }
   ],
   "source": [
    "unique_movies_count = ratings_df.select(\"movieId\").distinct().count()\n",
    "unique_users_count = ratings_df.select(\"userId\").distinct().count()\n",
    "print(f\"Unique Movies: {unique_movies_count}, Unique Users: {unique_users_count}\")\n"
   ]
  },
  {
   "cell_type": "code",
   "execution_count": 36,
   "id": "afbe9051-251e-42c5-a152-76f23df8bbf9",
   "metadata": {},
   "outputs": [
    {
     "name": "stderr",
     "output_type": "stream",
     "text": [
      "[Stage 38:>                                                         (0 + 1) / 1]\r"
     ]
    },
    {
     "name": "stdout",
     "output_type": "stream",
     "text": [
      "Number of Ratings >= 4.0: 48580\n"
     ]
    },
    {
     "name": "stderr",
     "output_type": "stream",
     "text": [
      "                                                                                \r"
     ]
    }
   ],
   "source": [
    "high_ratings_count = ratings_df.filter(ratings_df[\"rating\"] >= 4.0).count()\n",
    "print(f\"Number of Ratings >= 4.0: {high_ratings_count}\")"
   ]
  },
  {
   "cell_type": "code",
   "execution_count": 9,
   "id": "89c543cd-8a6d-460d-bda8-1782b40ab97d",
   "metadata": {},
   "outputs": [],
   "source": [
    "from pyspark.sql import functions as F"
   ]
  },
  {
   "cell_type": "code",
   "execution_count": 46,
   "id": "2f75bd6f-645b-4ba4-b9ae-3c822e9684c1",
   "metadata": {},
   "outputs": [
    {
     "name": "stderr",
     "output_type": "stream",
     "text": [
      "[Stage 54:>                                                         (0 + 1) / 1]\r"
     ]
    },
    {
     "name": "stdout",
     "output_type": "stream",
     "text": [
      "+-------+----------+\n",
      "|movieId|avg_rating|\n",
      "+-------+----------+\n",
      "|     53|       5.0|\n",
      "|     99|       5.0|\n",
      "|    148|       5.0|\n",
      "|    467|       5.0|\n",
      "|    495|       5.0|\n",
      "|    496|       5.0|\n",
      "|    626|       5.0|\n",
      "|    633|       5.0|\n",
      "|    876|       5.0|\n",
      "|   1140|       5.0|\n",
      "|   1151|       5.0|\n",
      "|   1310|       5.0|\n",
      "|   1349|       5.0|\n",
      "|   1631|       5.0|\n",
      "|   1759|       5.0|\n",
      "|   2075|       5.0|\n",
      "|   2196|       5.0|\n",
      "|   2512|       5.0|\n",
      "|   2824|       5.0|\n",
      "|   2969|       5.0|\n",
      "|   2972|       5.0|\n",
      "|   3073|       5.0|\n",
      "|   3086|       5.0|\n",
      "|   3096|       5.0|\n",
      "|   3303|       5.0|\n",
      "|   3473|       5.0|\n",
      "|   3496|       5.0|\n",
      "|   3531|       5.0|\n",
      "|   3567|       5.0|\n",
      "|   3637|       5.0|\n",
      "|   3678|       5.0|\n",
      "|   3687|       5.0|\n",
      "|   3792|       5.0|\n",
      "|   3795|       5.0|\n",
      "|   3851|       5.0|\n",
      "|   3939|       5.0|\n",
      "|   3940|       5.0|\n",
      "|   3941|       5.0|\n",
      "|   3942|       5.0|\n",
      "|   3951|       5.0|\n",
      "|   4116|       5.0|\n",
      "|   4135|       5.0|\n",
      "|   4180|       5.0|\n",
      "|   4402|       5.0|\n",
      "|   4454|       5.0|\n",
      "|   4495|       5.0|\n",
      "|   4788|       5.0|\n",
      "|   4813|       5.0|\n",
      "|   5059|       5.0|\n",
      "|   5088|       5.0|\n",
      "|   5241|       5.0|\n",
      "|   5244|       5.0|\n",
      "|   5328|       5.0|\n",
      "|   5416|       5.0|\n",
      "|   5468|       5.0|\n",
      "|   5490|       5.0|\n",
      "|   5513|       5.0|\n",
      "|   5537|       5.0|\n",
      "|   5607|       5.0|\n",
      "|   5723|       5.0|\n",
      "|   5745|       5.0|\n",
      "|   5746|       5.0|\n",
      "|   5888|       5.0|\n",
      "|   5889|       5.0|\n",
      "|   6021|       5.0|\n",
      "|   6086|       5.0|\n",
      "|   6192|       5.0|\n",
      "|   6201|       5.0|\n",
      "|   6402|       5.0|\n",
      "|   6408|       5.0|\n",
      "|   6442|       5.0|\n",
      "|   6611|       5.0|\n",
      "|   6818|       5.0|\n",
      "|   6835|       5.0|\n",
      "|   6983|       5.0|\n",
      "|   7071|       5.0|\n",
      "|   7096|       5.0|\n",
      "|   7122|       5.0|\n",
      "|   7815|       5.0|\n",
      "|   8238|       5.0|\n",
      "|   8580|       5.0|\n",
      "|   8738|       5.0|\n",
      "|   8804|       5.0|\n",
      "|   8911|       5.0|\n",
      "|  25887|       5.0|\n",
      "|  25906|       5.0|\n",
      "|  25947|       5.0|\n",
      "|  26073|       5.0|\n",
      "|  26078|       5.0|\n",
      "|  26147|       5.0|\n",
      "|  26169|       5.0|\n",
      "|  26350|       5.0|\n",
      "|  26366|       5.0|\n",
      "|  26401|       5.0|\n",
      "|  26587|       5.0|\n",
      "|  26840|       5.0|\n",
      "|  26849|       5.0|\n",
      "|  26928|       5.0|\n",
      "|  27320|       5.0|\n",
      "|  27373|       5.0|\n",
      "+-------+----------+\n",
      "\n"
     ]
    },
    {
     "name": "stderr",
     "output_type": "stream",
     "text": [
      "                                                                                \r"
     ]
    }
   ],
   "source": [
    "top_rated_movies = ratings_df.groupBy(\"movieId\").agg(F.avg(\"rating\").alias(\"avg_rating\")) \\\n",
    "    .orderBy([F.desc(\"avg_rating\"), F.asc(\"movieId\")]).limit(100)\n",
    "top_rated_movies.show(100)"
   ]
  },
  {
   "cell_type": "code",
   "execution_count": 10,
   "id": "d0e8d504-1266-4a59-8927-c5b3e86acd3a",
   "metadata": {},
   "outputs": [
    {
     "name": "stderr",
     "output_type": "stream",
     "text": [
      "[Stage 3:>                                                          (0 + 1) / 1]\r"
     ]
    },
    {
     "name": "stdout",
     "output_type": "stream",
     "text": [
      "Average Time Difference (seconds): 26243.727372267072\n"
     ]
    },
    {
     "name": "stderr",
     "output_type": "stream",
     "text": [
      "                                                                                \r"
     ]
    }
   ],
   "source": [
    "joined_df = ratings_df.join(tags_df.withColumnRenamed(\"timestamp\", \"tag_timestamp\"), [\"userId\", \"movieId\"])\n",
    "average_time_diff = joined_df.withColumn(\"time_difference\", (F.col(\"tag_timestamp\") - F.col(\"timestamp\")) / 1000) \\\n",
    "    .agg(F.avg(\"time_difference\")).first()[0]\n",
    "\n",
    "print(f\"Average Time Difference (seconds): {average_time_diff}\")"
   ]
  },
  {
   "cell_type": "code",
   "execution_count": 55,
   "id": "af2626ee-bcf4-4807-b0c6-b3b5180da4e6",
   "metadata": {},
   "outputs": [
    {
     "name": "stderr",
     "output_type": "stream",
     "text": [
      "[Stage 67:>                                                         (0 + 1) / 1]\r"
     ]
    },
    {
     "name": "stdout",
     "output_type": "stream",
     "text": [
      "Average of Averages: 3.6572223377474016\n"
     ]
    },
    {
     "name": "stderr",
     "output_type": "stream",
     "text": [
      "                                                                                \r"
     ]
    }
   ],
   "source": [
    "user_avg_ratings = ratings_df.groupBy(\"userId\").agg(F.avg(\"rating\").alias(\"avg_user_rating\"))\n",
    "average_of_averages = user_avg_ratings.agg(F.avg(\"avg_user_rating\")).first()[0]\n",
    "print(f\"Average of Averages: {average_of_averages}\")"
   ]
  },
  {
   "cell_type": "markdown",
   "id": "93317f23-9ffa-4bb9-b664-0934fa8a1ef1",
   "metadata": {},
   "source": [
    "# BLOCK 3"
   ]
  },
  {
   "cell_type": "code",
   "execution_count": 11,
   "id": "0dc8c0aa-8176-4fda-a720-ba49a08432e5",
   "metadata": {},
   "outputs": [],
   "source": [
    "from sklearn.feature_extraction.text import TfidfVectorizer\n",
    "from sklearn.linear_model import SGDRegressor\n",
    "from sklearn.metrics import mean_squared_error\n",
    "import pandas as pd"
   ]
  },
  {
   "cell_type": "code",
   "execution_count": 61,
   "id": "d91e943b-645e-4895-b0eb-2ca9c8fb4061",
   "metadata": {},
   "outputs": [
    {
     "name": "stderr",
     "output_type": "stream",
     "text": [
      "[Stage 78:>                                                         (0 + 1) / 1]\r"
     ]
    },
    {
     "name": "stdout",
     "output_type": "stream",
     "text": [
      "+------+-------+-----+-------------+\n",
      "|userId|movieId|  tag|tag_timestamp|\n",
      "+------+-------+-----+-------------+\n",
      "|     2|  60756|funny|   1445714994|\n",
      "+------+-------+-----+-------------+\n",
      "only showing top 1 row\n",
      "\n"
     ]
    },
    {
     "name": "stderr",
     "output_type": "stream",
     "text": [
      "                                                                                \r"
     ]
    }
   ],
   "source": [
    "tags_df.show(1)"
   ]
  },
  {
   "cell_type": "code",
   "execution_count": 16,
   "id": "47d53ddc-e9b3-4671-bf02-c4f0279d8a95",
   "metadata": {},
   "outputs": [
    {
     "name": "stderr",
     "output_type": "stream",
     "text": [
      "                                                                                \r"
     ]
    }
   ],
   "source": [
    "# Join the dataframes\n",
    "joined_df = ratings_df.join(tags_df.withColumnRenamed(\"timestamp\", \"timestamp_tag\"), [\"userId\", \"movieId\"])\n",
    "\n",
    "# Step 1: Train TfidfVectorizer on the \"tag\" column\n",
    "df = joined_df.toPandas()\n",
    "tfidf_vectorizer = TfidfVectorizer()\n",
    "tags_numerical_features = tfidf_vectorizer.fit_transform(df[\"tag\"])"
   ]
  },
  {
   "cell_type": "code",
   "execution_count": 17,
   "id": "29b04450-c676-4e5f-ac01-d92c60d362b1",
   "metadata": {},
   "outputs": [
    {
     "data": {
      "text/html": [
       "<div>\n",
       "<style scoped>\n",
       "    .dataframe tbody tr th:only-of-type {\n",
       "        vertical-align: middle;\n",
       "    }\n",
       "\n",
       "    .dataframe tbody tr th {\n",
       "        vertical-align: top;\n",
       "    }\n",
       "\n",
       "    .dataframe thead th {\n",
       "        text-align: right;\n",
       "    }\n",
       "</style>\n",
       "<table border=\"1\" class=\"dataframe\">\n",
       "  <thead>\n",
       "    <tr style=\"text-align: right;\">\n",
       "      <th></th>\n",
       "      <th>userId</th>\n",
       "      <th>movieId</th>\n",
       "      <th>rating</th>\n",
       "      <th>timestamp</th>\n",
       "      <th>tag</th>\n",
       "      <th>timestamp_tag</th>\n",
       "    </tr>\n",
       "  </thead>\n",
       "  <tbody>\n",
       "    <tr>\n",
       "      <th>0</th>\n",
       "      <td>2</td>\n",
       "      <td>60756</td>\n",
       "      <td>5.0</td>\n",
       "      <td>1445714980</td>\n",
       "      <td>will ferrell</td>\n",
       "      <td>1445714992</td>\n",
       "    </tr>\n",
       "    <tr>\n",
       "      <th>1</th>\n",
       "      <td>2</td>\n",
       "      <td>60756</td>\n",
       "      <td>5.0</td>\n",
       "      <td>1445714980</td>\n",
       "      <td>Highly quotable</td>\n",
       "      <td>1445714996</td>\n",
       "    </tr>\n",
       "    <tr>\n",
       "      <th>2</th>\n",
       "      <td>2</td>\n",
       "      <td>60756</td>\n",
       "      <td>5.0</td>\n",
       "      <td>1445714980</td>\n",
       "      <td>funny</td>\n",
       "      <td>1445714994</td>\n",
       "    </tr>\n",
       "    <tr>\n",
       "      <th>3</th>\n",
       "      <td>2</td>\n",
       "      <td>89774</td>\n",
       "      <td>5.0</td>\n",
       "      <td>1445715189</td>\n",
       "      <td>Tom Hardy</td>\n",
       "      <td>1445715205</td>\n",
       "    </tr>\n",
       "    <tr>\n",
       "      <th>4</th>\n",
       "      <td>2</td>\n",
       "      <td>89774</td>\n",
       "      <td>5.0</td>\n",
       "      <td>1445715189</td>\n",
       "      <td>MMA</td>\n",
       "      <td>1445715200</td>\n",
       "    </tr>\n",
       "  </tbody>\n",
       "</table>\n",
       "</div>"
      ],
      "text/plain": [
       "   userId  movieId  rating   timestamp              tag  timestamp_tag\n",
       "0       2    60756     5.0  1445714980     will ferrell     1445714992\n",
       "1       2    60756     5.0  1445714980  Highly quotable     1445714996\n",
       "2       2    60756     5.0  1445714980            funny     1445714994\n",
       "3       2    89774     5.0  1445715189        Tom Hardy     1445715205\n",
       "4       2    89774     5.0  1445715189              MMA     1445715200"
      ]
     },
     "execution_count": 17,
     "metadata": {},
     "output_type": "execute_result"
    }
   ],
   "source": [
    "df.head()"
   ]
  },
  {
   "cell_type": "code",
   "execution_count": 18,
   "id": "769d9b0f-09eb-4faf-a9c5-185a60b4c3d8",
   "metadata": {},
   "outputs": [
    {
     "data": {
      "text/html": [
       "<style>#sk-container-id-1 {color: black;}#sk-container-id-1 pre{padding: 0;}#sk-container-id-1 div.sk-toggleable {background-color: white;}#sk-container-id-1 label.sk-toggleable__label {cursor: pointer;display: block;width: 100%;margin-bottom: 0;padding: 0.3em;box-sizing: border-box;text-align: center;}#sk-container-id-1 label.sk-toggleable__label-arrow:before {content: \"▸\";float: left;margin-right: 0.25em;color: #696969;}#sk-container-id-1 label.sk-toggleable__label-arrow:hover:before {color: black;}#sk-container-id-1 div.sk-estimator:hover label.sk-toggleable__label-arrow:before {color: black;}#sk-container-id-1 div.sk-toggleable__content {max-height: 0;max-width: 0;overflow: hidden;text-align: left;background-color: #f0f8ff;}#sk-container-id-1 div.sk-toggleable__content pre {margin: 0.2em;color: black;border-radius: 0.25em;background-color: #f0f8ff;}#sk-container-id-1 input.sk-toggleable__control:checked~div.sk-toggleable__content {max-height: 200px;max-width: 100%;overflow: auto;}#sk-container-id-1 input.sk-toggleable__control:checked~label.sk-toggleable__label-arrow:before {content: \"▾\";}#sk-container-id-1 div.sk-estimator input.sk-toggleable__control:checked~label.sk-toggleable__label {background-color: #d4ebff;}#sk-container-id-1 div.sk-label input.sk-toggleable__control:checked~label.sk-toggleable__label {background-color: #d4ebff;}#sk-container-id-1 input.sk-hidden--visually {border: 0;clip: rect(1px 1px 1px 1px);clip: rect(1px, 1px, 1px, 1px);height: 1px;margin: -1px;overflow: hidden;padding: 0;position: absolute;width: 1px;}#sk-container-id-1 div.sk-estimator {font-family: monospace;background-color: #f0f8ff;border: 1px dotted black;border-radius: 0.25em;box-sizing: border-box;margin-bottom: 0.5em;}#sk-container-id-1 div.sk-estimator:hover {background-color: #d4ebff;}#sk-container-id-1 div.sk-parallel-item::after {content: \"\";width: 100%;border-bottom: 1px solid gray;flex-grow: 1;}#sk-container-id-1 div.sk-label:hover label.sk-toggleable__label {background-color: #d4ebff;}#sk-container-id-1 div.sk-serial::before {content: \"\";position: absolute;border-left: 1px solid gray;box-sizing: border-box;top: 0;bottom: 0;left: 50%;z-index: 0;}#sk-container-id-1 div.sk-serial {display: flex;flex-direction: column;align-items: center;background-color: white;padding-right: 0.2em;padding-left: 0.2em;position: relative;}#sk-container-id-1 div.sk-item {position: relative;z-index: 1;}#sk-container-id-1 div.sk-parallel {display: flex;align-items: stretch;justify-content: center;background-color: white;position: relative;}#sk-container-id-1 div.sk-item::before, #sk-container-id-1 div.sk-parallel-item::before {content: \"\";position: absolute;border-left: 1px solid gray;box-sizing: border-box;top: 0;bottom: 0;left: 50%;z-index: -1;}#sk-container-id-1 div.sk-parallel-item {display: flex;flex-direction: column;z-index: 1;position: relative;background-color: white;}#sk-container-id-1 div.sk-parallel-item:first-child::after {align-self: flex-end;width: 50%;}#sk-container-id-1 div.sk-parallel-item:last-child::after {align-self: flex-start;width: 50%;}#sk-container-id-1 div.sk-parallel-item:only-child::after {width: 0;}#sk-container-id-1 div.sk-dashed-wrapped {border: 1px dashed gray;margin: 0 0.4em 0.5em 0.4em;box-sizing: border-box;padding-bottom: 0.4em;background-color: white;}#sk-container-id-1 div.sk-label label {font-family: monospace;font-weight: bold;display: inline-block;line-height: 1.2em;}#sk-container-id-1 div.sk-label-container {text-align: center;}#sk-container-id-1 div.sk-container {/* jupyter's `normalize.less` sets `[hidden] { display: none; }` but bootstrap.min.css set `[hidden] { display: none !important; }` so we also need the `!important` here to be able to override the default hidden behavior on the sphinx rendered scikit-learn.org. See: https://github.com/scikit-learn/scikit-learn/issues/21755 */display: inline-block !important;position: relative;}#sk-container-id-1 div.sk-text-repr-fallback {display: none;}</style><div id=\"sk-container-id-1\" class=\"sk-top-container\"><div class=\"sk-text-repr-fallback\"><pre>SGDRegressor()</pre><b>In a Jupyter environment, please rerun this cell to show the HTML representation or trust the notebook. <br />On GitHub, the HTML representation is unable to render, please try loading this page with nbviewer.org.</b></div><div class=\"sk-container\" hidden><div class=\"sk-item\"><div class=\"sk-estimator sk-toggleable\"><input class=\"sk-toggleable__control sk-hidden--visually\" id=\"sk-estimator-id-1\" type=\"checkbox\" checked><label for=\"sk-estimator-id-1\" class=\"sk-toggleable__label sk-toggleable__label-arrow\">SGDRegressor</label><div class=\"sk-toggleable__content\"><pre>SGDRegressor()</pre></div></div></div></div></div>"
      ],
      "text/plain": [
       "SGDRegressor()"
      ]
     },
     "execution_count": 18,
     "metadata": {},
     "output_type": "execute_result"
    }
   ],
   "source": [
    "sgd_regressor = SGDRegressor()\n",
    "sgd_regressor.fit(tags_numerical_features, df[\"rating\"])"
   ]
  },
  {
   "cell_type": "code",
   "execution_count": 20,
   "id": "3c2dfaa8-2c81-40eb-8beb-235ea7b07ce5",
   "metadata": {},
   "outputs": [],
   "source": [
    "from pyspark.sql.functions import col, udf"
   ]
  },
  {
   "cell_type": "code",
   "execution_count": 21,
   "id": "45119488-531c-40d7-8b2d-8631e07ca897",
   "metadata": {},
   "outputs": [],
   "source": [
    "@udf(DoubleType())\n",
    "def predict_rating(tag):\n",
    "    tag_numerical_features = tfidf_vectorizer.transform([tag])\n",
    "    return float(sgd_regressor.predict(tag_numerical_features))"
   ]
  },
  {
   "cell_type": "code",
   "execution_count": 23,
   "id": "93c849ca-b1b2-4040-981a-5c3682108b20",
   "metadata": {},
   "outputs": [],
   "source": [
    "result_df = joined_df.withColumn(\"predicted_rating\", predict_rating(col(\"tag\")))"
   ]
  },
  {
   "cell_type": "code",
   "execution_count": 24,
   "id": "9e70691d-fe5f-4edb-b0ef-f89d547b3cdc",
   "metadata": {},
   "outputs": [
    {
     "name": "stderr",
     "output_type": "stream",
     "text": [
      "                                                                                \r"
     ]
    }
   ],
   "source": [
    "result_pandas = result_df.select(\"rating\", \"predicted_rating\").toPandas()"
   ]
  },
  {
   "cell_type": "code",
   "execution_count": 25,
   "id": "16432ce4-86f1-4150-a31d-bd43c975e4b1",
   "metadata": {},
   "outputs": [
    {
     "name": "stdout",
     "output_type": "stream",
     "text": [
      "Root Mean Squared Error (RMSE): 0.8734182429099265\n"
     ]
    }
   ],
   "source": [
    "rmse = mean_squared_error(result_pandas[\"rating\"], result_pandas[\"predicted_rating\"], squared=False)\n",
    "print(f\"Root Mean Squared Error (RMSE): {rmse}\")\n"
   ]
  },
  {
   "cell_type": "code",
   "execution_count": 26,
   "id": "129cce65-3e2b-40e9-9b91-19eefd210e14",
   "metadata": {},
   "outputs": [
    {
     "name": "stderr",
     "output_type": "stream",
     "text": [
      "                                                                                \r"
     ]
    },
    {
     "name": "stdout",
     "output_type": "stream",
     "text": [
      "+------+-------+------+----------+--------------------+-------------+------------------+\n",
      "|userId|movieId|rating| timestamp|                 tag|timestamp_tag|  predicted_rating|\n",
      "+------+-------+------+----------+--------------------+-------------+------------------+\n",
      "|     2|  60756|   5.0|1445714980|        will ferrell|   1445714992| 4.034152661202453|\n",
      "|     2|  60756|   5.0|1445714980|     Highly quotable|   1445714996| 3.952807195306802|\n",
      "|     2|  60756|   5.0|1445714980|               funny|   1445714994| 4.370088129140697|\n",
      "|     2|  89774|   5.0|1445715189|           Tom Hardy|   1445715205|3.8407134876416285|\n",
      "|     2|  89774|   5.0|1445715189|                 MMA|   1445715200|3.4214209469260037|\n",
      "|     2|  89774|   5.0|1445715189|        Boxing story|   1445715207|3.9287583662664822|\n",
      "|     2| 106782|   5.0|1445714966|     Martin Scorsese|   1445715056|3.8523537113695143|\n",
      "|     2| 106782|   5.0|1445714966|   Leonardo DiCaprio|   1445715051| 4.242214632283111|\n",
      "|     2| 106782|   5.0|1445714966|               drugs|   1445715054| 4.291248303419884|\n",
      "|     7|  48516|   1.0|1169687318|        way too long|   1169687325|3.4297017963214818|\n",
      "|    18|    431|   4.0|1462138790|               mafia|   1462138755|  4.15779468308611|\n",
      "|    18|    431|   4.0|1462138790|            gangster|   1462138749|3.6250946577865557|\n",
      "|    18|    431|   4.0|1462138790|           Al Pacino|   1462138765|3.8586904609855877|\n",
      "|    18|   1221|   5.0|1460242083|               Mafia|   1461699303|  4.15779468308611|\n",
      "|    18|   1221|   5.0|1460242083|           Al Pacino|   1461699306|3.8586904609855877|\n",
      "|    18|   5995|   4.5|1455735416|          true story|   1455735479|3.8531115413093393|\n",
      "|    18|   5995|   4.5|1455735416|           holocaust|   1455735472|3.9722551629180396|\n",
      "|    18|  44665|   4.5|1455049870|        twist ending|   1456948283|4.8394032224726455|\n",
      "|    18|  52604|   4.5|1457650649|        twist ending|   1457650682|4.8394032224726455|\n",
      "|    18|  52604|   4.5|1457650649|     courtroom drama|   1457650711| 3.853728953375862|\n",
      "|    18|  52604|   4.5|1457650649|     Anthony Hopkins|   1457650696| 3.384206547252269|\n",
      "|    18|  88094|   3.0|1457352482|               music|   1457444609| 4.289151443921466|\n",
      "|    18|  88094|   3.0|1457352482|  indie record label|   1457444592|3.2717814916300196|\n",
      "|    18|  88094|   3.0|1457352482|             britpop|   1457444500|3.2713266728671813|\n",
      "|    18| 144210|   4.0|1455060282|      Sustainability|   1455060452|3.3453362550073202|\n",
      "|    18| 144210|   4.0|1455060282|     dumpster diving|   1455060381|3.3463551145801538|\n",
      "|    21| 119141|   0.5|1419793939|              bloody|   1419793962| 3.525815835499901|\n",
      "|    49| 109487|   4.5|1493093231|         time-travel|   1493093356|4.2339599159273344|\n",
      "|    49| 109487|   4.5|1493093231|              sci-fi|   1493093332|4.2965660874203735|\n",
      "|    49| 109487|   4.5|1493093231|          black hole|   1493093306| 3.855958475818313|\n",
      "|    62|      2|   4.0|1528843890|      Robin Williams|   1528843907|3.6994546946170503|\n",
      "|    62|      2|   4.0|1528843890|    magic board game|   1528843932|3.7481154338864373|\n",
      "|    62|      2|   4.0|1528843890|             fantasy|   1528843929| 3.940762969283484|\n",
      "|    62|    110|   4.5|1521822303|         sword fight|   1528152535| 3.386011062641341|\n",
      "|    62|    110|   4.5|1521822303|             revenge|   1528152531|4.1806622525956385|\n",
      "|    62|    110|   4.5|1521822303|Oscar (Best Cinem...|   1528152539| 4.337274903050303|\n",
      "|    62|    110|   4.5|1521822303|          mel gibson|   1528152521|3.4193342533099065|\n",
      "|    62|    110|   4.5|1521822303|            Medieval|   1528152528|3.3840861941548663|\n",
      "|    62|    110|   4.5|1521822303|       inspirational|   1528152527| 3.804079405816908|\n",
      "|    62|    110|   4.5|1521822303|          historical|   1528152523|3.3848660029542073|\n",
      "|    62|    110|   4.5|1521822303|                epic|   1528152532| 3.962575146966909|\n",
      "|    62|    110|   4.5|1521822303|   beautiful scenery|   1528152541| 4.002177506205129|\n",
      "|    62|    410|   4.5|1525636601|              gothic|   1525636609| 3.865840329507873|\n",
      "|    62|    410|   4.5|1525636601|              family|   1525636708|4.1105647951523405|\n",
      "|    62|    410|   4.5|1525636601|         dark comedy|   1525636610| 4.894976011611666|\n",
      "|    62|    410|   4.5|1525636601|   Christopher Lloyd|   1525636622| 3.753912484293787|\n",
      "|    62|    410|   4.5|1525636601|     Christina Ricci|   1525636685|  3.56986712420067|\n",
      "|    62|    410|   4.5|1525636601|        black comedy|   1525636607| 4.638318477845651|\n",
      "|    62|   2023|   5.0|1525636725|               mafia|   1525636733|  4.15779468308611|\n",
      "|    62|   2023|   5.0|1525636725|Francis Ford Coppola|   1525636752| 3.538193172332507|\n",
      "+------+-------+------+----------+--------------------+-------------+------------------+\n",
      "only showing top 50 rows\n",
      "\n"
     ]
    }
   ],
   "source": [
    "result_df.show(50)"
   ]
  },
  {
   "cell_type": "markdown",
   "id": "258a0dd5-b2ac-4b93-b627-ed745da32174",
   "metadata": {},
   "source": [
    "Для запуска был произведен 1 stage с 1 task"
   ]
  }
 ],
 "metadata": {
  "kernelspec": {
   "display_name": "Python 3 (ipykernel)",
   "language": "python",
   "name": "python3"
  },
  "language_info": {
   "codemirror_mode": {
    "name": "ipython",
    "version": 3
   },
   "file_extension": ".py",
   "mimetype": "text/x-python",
   "name": "python",
   "nbconvert_exporter": "python",
   "pygments_lexer": "ipython3",
   "version": "3.10.12"
  }
 },
 "nbformat": 4,
 "nbformat_minor": 5
}
