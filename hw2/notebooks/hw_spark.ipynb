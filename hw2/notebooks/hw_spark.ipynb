{
 "cells": [
  {
   "cell_type": "code",
   "execution_count": 1,
   "id": "1b07047f-91e6-49d1-98d1-f5727e141b06",
   "metadata": {},
   "outputs": [
    {
     "name": "stdout",
     "output_type": "stream",
     "text": [
      "Safe mode is OFF\n"
     ]
    }
   ],
   "source": [
    "!hdfs dfsadmin -safemode leave"
   ]
  },
  {
   "cell_type": "markdown",
   "id": "58ea8514-6e0d-472f-891b-75931fac5084",
   "metadata": {},
   "source": [
    "# BLOCK 1"
   ]
  },
  {
   "cell_type": "code",
   "execution_count": 15,
   "id": "12059ab4-e521-4011-80e3-691949afb025",
   "metadata": {},
   "outputs": [],
   "source": [
    "import pyspark\n",
    "from pyspark import SparkContext, SparkConf\n",
    "from pyspark.sql import SparkSession"
   ]
  },
  {
   "cell_type": "code",
   "execution_count": 25,
   "id": "ebf58187-6793-42ea-8ae6-f186e237ae3a",
   "metadata": {},
   "outputs": [],
   "source": [
    "conf = SparkConf().set(\"spark.executor.instances\", \"2\").set(\"spark.executor.cores\", \"1\").set(\"spark.executor.memory\", \"1g\")"
   ]
  },
  {
   "cell_type": "code",
   "execution_count": 26,
   "id": "736b804d-443e-445b-af4b-5b1f8f829ee3",
   "metadata": {},
   "outputs": [],
   "source": [
    "spark = SparkSession.builder.master(\"yarn\").appName(\"vorkhlik_spark\").getOrCreate()"
   ]
  },
  {
   "cell_type": "code",
   "execution_count": 5,
   "id": "44ff35b1-8f48-4108-a73c-ca07d85cb912",
   "metadata": {},
   "outputs": [
    {
     "name": "stdout",
     "output_type": "stream",
     "text": [
      "rm: `ml-latest-small': No such file or directory\n"
     ]
    }
   ],
   "source": [
    "!hdfs dfs -rm -r ml-latest-small\n",
    "!hdfs dfs -put ml-latest-small ."
   ]
  },
  {
   "cell_type": "code",
   "execution_count": 27,
   "id": "bd937469-c627-483e-b831-11aafcfb4800",
   "metadata": {},
   "outputs": [],
   "source": [
    "from pyspark.sql.types import *"
   ]
  },
  {
   "cell_type": "code",
   "execution_count": 28,
   "id": "56adbf45-ada6-4bdd-a546-02c10cb3cab4",
   "metadata": {},
   "outputs": [],
   "source": [
    "tags_schema = StructType([\n",
    "    StructField(\"userId\", IntegerType(), True), \n",
    "    StructField(\"movieId\", IntegerType(), True), \n",
    "    StructField(\"tag\", StringType(), True), \n",
    "    StructField(\"timestamp\", LongType(), True)])\n",
    "\n",
    "ratings_schema = StructType(fields=[\n",
    "    StructField(\"userId\", IntegerType()),\n",
    "    StructField(\"movieId\", IntegerType()),\n",
    "    StructField(\"rating\", DoubleType()),\n",
    "    StructField(\"timestamp\", LongType()),\n",
    "])"
   ]
  },
  {
   "cell_type": "code",
   "execution_count": 29,
   "id": "c8a04933-7c16-4cb4-a6a6-7614ebab6f5b",
   "metadata": {},
   "outputs": [
    {
     "name": "stdout",
     "output_type": "stream",
     "text": [
      "CPU times: user 8.3 ms, sys: 525 µs, total: 8.83 ms\n",
      "Wall time: 222 ms\n"
     ]
    }
   ],
   "source": [
    "%%time\n",
    "ratings_df = spark\\\n",
    "    .read\\\n",
    "    .format(\"csv\")\\\n",
    "    .option(\"header\", \"True\")\\\n",
    "    .schema(ratings_schema)\\\n",
    "    .load(\"ml-latest-small/ratings.csv\")"
   ]
  },
  {
   "cell_type": "code",
   "execution_count": 30,
   "id": "b968ee25-8f4b-4350-a8ab-52a039d0fcf8",
   "metadata": {},
   "outputs": [
    {
     "name": "stdout",
     "output_type": "stream",
     "text": [
      "CPU times: user 5.09 ms, sys: 2.09 ms, total: 7.18 ms\n",
      "Wall time: 83.5 ms\n"
     ]
    }
   ],
   "source": [
    "%%time\n",
    "tags_df = spark\\\n",
    "    .read\\\n",
    "    .format(\"csv\")\\\n",
    "    .option(\"header\", \"True\")\\\n",
    "    .schema(tags_schema)\\\n",
    "    .load(\"ml-latest-small/tags.csv\")"
   ]
  },
  {
   "cell_type": "code",
   "execution_count": 32,
   "id": "94f22169-c0cd-4e13-9c8b-55650214ea7f",
   "metadata": {},
   "outputs": [
    {
     "name": "stdout",
     "output_type": "stream",
     "text": [
      "3683 100836\n"
     ]
    }
   ],
   "source": [
    "print(tags_df.count(), ratings_df.count())"
   ]
  },
  {
   "cell_type": "markdown",
   "id": "ffc9f2b5-0053-4563-b71d-93bbf1aa3716",
   "metadata": {},
   "source": [
    "Для расчета было выполнено 2 стейджа для каждой операции count, в каждом стейдже 1 таска"
   ]
  },
  {
   "cell_type": "markdown",
   "id": "c99d7888-e594-4277-b885-2f5664fbde51",
   "metadata": {},
   "source": [
    "# BLOCK 2"
   ]
  },
  {
   "cell_type": "code",
   "execution_count": 33,
   "id": "b53f881e-1a83-41e7-9ffb-7ac867148242",
   "metadata": {},
   "outputs": [
    {
     "name": "stderr",
     "output_type": "stream",
     "text": [
      "                                                                                \r"
     ]
    },
    {
     "name": "stdout",
     "output_type": "stream",
     "text": [
      "+------+-------+-----------------+----------+\n",
      "|userId|movieId|              tag| timestamp|\n",
      "+------+-------+-----------------+----------+\n",
      "|     2|  60756|            funny|1445714994|\n",
      "|     2|  60756|  Highly quotable|1445714996|\n",
      "|     2|  60756|     will ferrell|1445714992|\n",
      "|     2|  89774|     Boxing story|1445715207|\n",
      "|     2|  89774|              MMA|1445715200|\n",
      "|     2|  89774|        Tom Hardy|1445715205|\n",
      "|     2| 106782|            drugs|1445715054|\n",
      "|     2| 106782|Leonardo DiCaprio|1445715051|\n",
      "|     2| 106782|  Martin Scorsese|1445715056|\n",
      "|     7|  48516|     way too long|1169687325|\n",
      "|    18|    431|        Al Pacino|1462138765|\n",
      "|    18|    431|         gangster|1462138749|\n",
      "|    18|    431|            mafia|1462138755|\n",
      "|    18|   1221|        Al Pacino|1461699306|\n",
      "|    18|   1221|            Mafia|1461699303|\n",
      "|    18|   5995|        holocaust|1455735472|\n",
      "|    18|   5995|       true story|1455735479|\n",
      "|    18|  44665|     twist ending|1456948283|\n",
      "|    18|  52604|  Anthony Hopkins|1457650696|\n",
      "|    18|  52604|  courtroom drama|1457650711|\n",
      "+------+-------+-----------------+----------+\n",
      "only showing top 20 rows\n",
      "\n"
     ]
    }
   ],
   "source": [
    "tags_df.show()"
   ]
  },
  {
   "cell_type": "code",
   "execution_count": 34,
   "id": "0d29f8f8-e8e4-4dbc-b99b-da3e88bb60e0",
   "metadata": {},
   "outputs": [
    {
     "name": "stderr",
     "output_type": "stream",
     "text": [
      "[Stage 25:>                                                         (0 + 1) / 1]\r"
     ]
    },
    {
     "name": "stdout",
     "output_type": "stream",
     "text": [
      "+------+-------+------+---------+\n",
      "|userId|movieId|rating|timestamp|\n",
      "+------+-------+------+---------+\n",
      "|     1|      1|   4.0|964982703|\n",
      "|     1|      3|   4.0|964981247|\n",
      "|     1|      6|   4.0|964982224|\n",
      "|     1|     47|   5.0|964983815|\n",
      "|     1|     50|   5.0|964982931|\n",
      "|     1|     70|   3.0|964982400|\n",
      "|     1|    101|   5.0|964980868|\n",
      "|     1|    110|   4.0|964982176|\n",
      "|     1|    151|   5.0|964984041|\n",
      "|     1|    157|   5.0|964984100|\n",
      "|     1|    163|   5.0|964983650|\n",
      "|     1|    216|   5.0|964981208|\n",
      "|     1|    223|   3.0|964980985|\n",
      "|     1|    231|   5.0|964981179|\n",
      "|     1|    235|   4.0|964980908|\n",
      "|     1|    260|   5.0|964981680|\n",
      "|     1|    296|   3.0|964982967|\n",
      "|     1|    316|   3.0|964982310|\n",
      "|     1|    333|   5.0|964981179|\n",
      "|     1|    349|   4.0|964982563|\n",
      "+------+-------+------+---------+\n",
      "only showing top 20 rows\n",
      "\n"
     ]
    },
    {
     "name": "stderr",
     "output_type": "stream",
     "text": [
      "                                                                                \r"
     ]
    }
   ],
   "source": [
    "ratings_df.show()"
   ]
  },
  {
   "cell_type": "code",
   "execution_count": 35,
   "id": "2924e465-ce35-4737-8146-28c4e1bc2412",
   "metadata": {},
   "outputs": [
    {
     "name": "stderr",
     "output_type": "stream",
     "text": [
      "[Stage 32:>                                                         (0 + 1) / 1]\r"
     ]
    },
    {
     "name": "stdout",
     "output_type": "stream",
     "text": [
      "Unique Movies: 9724, Unique Users: 610\n"
     ]
    },
    {
     "name": "stderr",
     "output_type": "stream",
     "text": [
      "                                                                                \r"
     ]
    }
   ],
   "source": [
    "unique_movies_count = ratings_df.select(\"movieId\").distinct().count()\n",
    "unique_users_count = ratings_df.select(\"userId\").distinct().count()\n",
    "print(f\"Unique Movies: {unique_movies_count}, Unique Users: {unique_users_count}\")\n"
   ]
  },
  {
   "cell_type": "code",
   "execution_count": 36,
   "id": "afbe9051-251e-42c5-a152-76f23df8bbf9",
   "metadata": {},
   "outputs": [
    {
     "name": "stderr",
     "output_type": "stream",
     "text": [
      "[Stage 38:>                                                         (0 + 1) / 1]\r"
     ]
    },
    {
     "name": "stdout",
     "output_type": "stream",
     "text": [
      "Number of Ratings >= 4.0: 48580\n"
     ]
    },
    {
     "name": "stderr",
     "output_type": "stream",
     "text": [
      "                                                                                \r"
     ]
    }
   ],
   "source": [
    "high_ratings_count = ratings_df.filter(ratings_df[\"rating\"] >= 4.0).count()\n",
    "print(f\"Number of Ratings >= 4.0: {high_ratings_count}\")"
   ]
  },
  {
   "cell_type": "code",
   "execution_count": 38,
   "id": "89c543cd-8a6d-460d-bda8-1782b40ab97d",
   "metadata": {},
   "outputs": [],
   "source": [
    "from pyspark.sql import functions as F"
   ]
  },
  {
   "cell_type": "code",
   "execution_count": 46,
   "id": "2f75bd6f-645b-4ba4-b9ae-3c822e9684c1",
   "metadata": {},
   "outputs": [
    {
     "name": "stderr",
     "output_type": "stream",
     "text": [
      "[Stage 54:>                                                         (0 + 1) / 1]\r"
     ]
    },
    {
     "name": "stdout",
     "output_type": "stream",
     "text": [
      "+-------+----------+\n",
      "|movieId|avg_rating|\n",
      "+-------+----------+\n",
      "|     53|       5.0|\n",
      "|     99|       5.0|\n",
      "|    148|       5.0|\n",
      "|    467|       5.0|\n",
      "|    495|       5.0|\n",
      "|    496|       5.0|\n",
      "|    626|       5.0|\n",
      "|    633|       5.0|\n",
      "|    876|       5.0|\n",
      "|   1140|       5.0|\n",
      "|   1151|       5.0|\n",
      "|   1310|       5.0|\n",
      "|   1349|       5.0|\n",
      "|   1631|       5.0|\n",
      "|   1759|       5.0|\n",
      "|   2075|       5.0|\n",
      "|   2196|       5.0|\n",
      "|   2512|       5.0|\n",
      "|   2824|       5.0|\n",
      "|   2969|       5.0|\n",
      "|   2972|       5.0|\n",
      "|   3073|       5.0|\n",
      "|   3086|       5.0|\n",
      "|   3096|       5.0|\n",
      "|   3303|       5.0|\n",
      "|   3473|       5.0|\n",
      "|   3496|       5.0|\n",
      "|   3531|       5.0|\n",
      "|   3567|       5.0|\n",
      "|   3637|       5.0|\n",
      "|   3678|       5.0|\n",
      "|   3687|       5.0|\n",
      "|   3792|       5.0|\n",
      "|   3795|       5.0|\n",
      "|   3851|       5.0|\n",
      "|   3939|       5.0|\n",
      "|   3940|       5.0|\n",
      "|   3941|       5.0|\n",
      "|   3942|       5.0|\n",
      "|   3951|       5.0|\n",
      "|   4116|       5.0|\n",
      "|   4135|       5.0|\n",
      "|   4180|       5.0|\n",
      "|   4402|       5.0|\n",
      "|   4454|       5.0|\n",
      "|   4495|       5.0|\n",
      "|   4788|       5.0|\n",
      "|   4813|       5.0|\n",
      "|   5059|       5.0|\n",
      "|   5088|       5.0|\n",
      "|   5241|       5.0|\n",
      "|   5244|       5.0|\n",
      "|   5328|       5.0|\n",
      "|   5416|       5.0|\n",
      "|   5468|       5.0|\n",
      "|   5490|       5.0|\n",
      "|   5513|       5.0|\n",
      "|   5537|       5.0|\n",
      "|   5607|       5.0|\n",
      "|   5723|       5.0|\n",
      "|   5745|       5.0|\n",
      "|   5746|       5.0|\n",
      "|   5888|       5.0|\n",
      "|   5889|       5.0|\n",
      "|   6021|       5.0|\n",
      "|   6086|       5.0|\n",
      "|   6192|       5.0|\n",
      "|   6201|       5.0|\n",
      "|   6402|       5.0|\n",
      "|   6408|       5.0|\n",
      "|   6442|       5.0|\n",
      "|   6611|       5.0|\n",
      "|   6818|       5.0|\n",
      "|   6835|       5.0|\n",
      "|   6983|       5.0|\n",
      "|   7071|       5.0|\n",
      "|   7096|       5.0|\n",
      "|   7122|       5.0|\n",
      "|   7815|       5.0|\n",
      "|   8238|       5.0|\n",
      "|   8580|       5.0|\n",
      "|   8738|       5.0|\n",
      "|   8804|       5.0|\n",
      "|   8911|       5.0|\n",
      "|  25887|       5.0|\n",
      "|  25906|       5.0|\n",
      "|  25947|       5.0|\n",
      "|  26073|       5.0|\n",
      "|  26078|       5.0|\n",
      "|  26147|       5.0|\n",
      "|  26169|       5.0|\n",
      "|  26350|       5.0|\n",
      "|  26366|       5.0|\n",
      "|  26401|       5.0|\n",
      "|  26587|       5.0|\n",
      "|  26840|       5.0|\n",
      "|  26849|       5.0|\n",
      "|  26928|       5.0|\n",
      "|  27320|       5.0|\n",
      "|  27373|       5.0|\n",
      "+-------+----------+\n",
      "\n"
     ]
    },
    {
     "name": "stderr",
     "output_type": "stream",
     "text": [
      "                                                                                \r"
     ]
    }
   ],
   "source": [
    "top_rated_movies = ratings_df.groupBy(\"movieId\").agg(F.avg(\"rating\").alias(\"avg_rating\")) \\\n",
    "    .orderBy([F.desc(\"avg_rating\"), F.asc(\"movieId\")]).limit(100)\n",
    "top_rated_movies.show(100)"
   ]
  },
  {
   "cell_type": "code",
   "execution_count": 57,
   "id": "d0e8d504-1266-4a59-8927-c5b3e86acd3a",
   "metadata": {},
   "outputs": [
    {
     "name": "stderr",
     "output_type": "stream",
     "text": [
      "[Stage 74:>                                                         (0 + 1) / 1]\r"
     ]
    },
    {
     "name": "stdout",
     "output_type": "stream",
     "text": [
      "Average Time Difference (seconds): 26243.727372267072\n"
     ]
    },
    {
     "name": "stderr",
     "output_type": "stream",
     "text": [
      "                                                                                \r"
     ]
    }
   ],
   "source": [
    "joined_df = ratings_df.join(tags_df.withColumnRenamed(\"timestamp\", \"tag_timestamp\"), [\"userId\", \"movieId\"])\n",
    "average_time_diff = joined_df.withColumn(\"time_difference\", (F.col(\"tag_timestamp\") - F.col(\"timestamp\")) / 1000) \\\n",
    "    .agg(F.avg(\"time_difference\")).first()[0]\n",
    "\n",
    "print(f\"Average Time Difference (seconds): {average_time_diff}\")"
   ]
  },
  {
   "cell_type": "code",
   "execution_count": 55,
   "id": "af2626ee-bcf4-4807-b0c6-b3b5180da4e6",
   "metadata": {},
   "outputs": [
    {
     "name": "stderr",
     "output_type": "stream",
     "text": [
      "[Stage 67:>                                                         (0 + 1) / 1]\r"
     ]
    },
    {
     "name": "stdout",
     "output_type": "stream",
     "text": [
      "Average of Averages: 3.6572223377474016\n"
     ]
    },
    {
     "name": "stderr",
     "output_type": "stream",
     "text": [
      "                                                                                \r"
     ]
    }
   ],
   "source": [
    "user_avg_ratings = ratings_df.groupBy(\"userId\").agg(F.avg(\"rating\").alias(\"avg_user_rating\"))\n",
    "average_of_averages = user_avg_ratings.agg(F.avg(\"avg_user_rating\")).first()[0]\n",
    "print(f\"Average of Averages: {average_of_averages}\")"
   ]
  },
  {
   "cell_type": "code",
   "execution_count": null,
   "id": "c4fe17e0-b8a4-4a45-a67c-a594316e1b3e",
   "metadata": {},
   "outputs": [],
   "source": []
  }
 ],
 "metadata": {
  "kernelspec": {
   "display_name": "Python 3 (ipykernel)",
   "language": "python",
   "name": "python3"
  },
  "language_info": {
   "codemirror_mode": {
    "name": "ipython",
    "version": 3
   },
   "file_extension": ".py",
   "mimetype": "text/x-python",
   "name": "python",
   "nbconvert_exporter": "python",
   "pygments_lexer": "ipython3",
   "version": "3.10.12"
  }
 },
 "nbformat": 4,
 "nbformat_minor": 5
}
