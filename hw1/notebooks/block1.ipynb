{
 "cells": [
  {
   "cell_type": "code",
   "execution_count": 2,
   "id": "23c5bdd7-72db-4ef7-a01b-ad69c01bab3e",
   "metadata": {},
   "outputs": [
    {
     "name": "stdout",
     "output_type": "stream",
     "text": [
      "Found 1 items\n",
      "drwx-wx-wx   - root supergroup          0 2023-11-30 00:52 /tmp\n"
     ]
    }
   ],
   "source": [
    "!hadoop fs -ls /"
   ]
  },
  {
   "cell_type": "code",
   "execution_count": 3,
   "id": "b55931f0-4236-412d-92b7-ac64e04c86e2",
   "metadata": {},
   "outputs": [],
   "source": [
    "!hadoop fs -mkdir /test"
   ]
  },
  {
   "cell_type": "code",
   "execution_count": 4,
   "id": "98cd9e2e-8b5d-4d67-8706-be57f64006b0",
   "metadata": {},
   "outputs": [
    {
     "name": "stdout",
     "output_type": "stream",
     "text": [
      "Found 2 items\n",
      "drwxr-xr-x   - root supergroup          0 2023-11-30 01:00 /test\n",
      "drwx-wx-wx   - root supergroup          0 2023-11-30 00:52 /tmp\n"
     ]
    }
   ],
   "source": [
    "!hadoop fs -ls /"
   ]
  },
  {
   "cell_type": "code",
   "execution_count": null,
   "id": "1ec3fe25-b244-4c3d-a064-8be8e8cd7929",
   "metadata": {},
   "outputs": [],
   "source": [
    "# !pip install pyarrow"
   ]
  },
  {
   "cell_type": "code",
   "execution_count": 5,
   "id": "f2b7b318-6ba2-4eaf-9368-cc3db3e38371",
   "metadata": {},
   "outputs": [],
   "source": [
    "!hadoop fs -put blahblahblah.txt /test"
   ]
  },
  {
   "cell_type": "code",
   "execution_count": 8,
   "id": "93c0645b-abaf-46f5-a844-1308f075eb54",
   "metadata": {},
   "outputs": [
    {
     "name": "stdout",
     "output_type": "stream",
     "text": [
      "-rw-r--r--   3 root supergroup        247 2023-11-30 01:09 /test/blahblahblah.txt\n"
     ]
    }
   ],
   "source": [
    "!hadoop fs -ls /test/blahblahblah.txt"
   ]
  },
  {
   "cell_type": "code",
   "execution_count": 7,
   "id": "90784e0d-59cf-463b-a0c2-ecd43ca852a0",
   "metadata": {},
   "outputs": [
    {
     "name": "stdout",
     "output_type": "stream",
     "text": [
      "blahblahblah\n",
      "blahblahblah\n",
      "blahblahblah\n",
      "blahblahblah\n",
      "blahblahblah\n",
      "blahblahblah\n",
      "blahblahblah\n",
      "blahblahblah\n",
      "blahblahblah\n",
      "blahblahblah\n",
      "blahblahblah\n",
      "blahblahblah\n",
      "blahblahblah\n",
      "blahblahblah\n",
      "blahblahblah\n",
      "blahblahblah\n",
      "blahblahblah\n",
      "blahblahblah\n",
      "blahblahblah\n"
     ]
    }
   ],
   "source": [
    "!hadoop fs -cat /test/blahblahblah.txt"
   ]
  },
  {
   "cell_type": "code",
   "execution_count": 9,
   "id": "3f735d5b-2fd0-4eae-b091-3942949e0afe",
   "metadata": {},
   "outputs": [
    {
     "name": "stdout",
     "output_type": "stream",
     "text": [
      "Number of Maps  = 15\n",
      "Samples per Map = 1800\n",
      "Wrote input for Map #0\n",
      "Wrote input for Map #1\n",
      "Wrote input for Map #2\n",
      "Wrote input for Map #3\n",
      "Wrote input for Map #4\n",
      "Wrote input for Map #5\n",
      "Wrote input for Map #6\n",
      "Wrote input for Map #7\n",
      "Wrote input for Map #8\n",
      "Wrote input for Map #9\n",
      "Wrote input for Map #10\n",
      "Wrote input for Map #11\n",
      "Wrote input for Map #12\n",
      "Wrote input for Map #13\n",
      "Wrote input for Map #14\n",
      "Starting Job\n",
      "2023-11-30 01:11:03 INFO  DefaultNoHARMFailoverProxyProvider:64 - Connecting to ResourceManager at resourcemanager/172.19.0.5:8032\n",
      "2023-11-30 01:11:04 INFO  JobResourceUploader:907 - Disabling Erasure Coding for path: /tmp/hadoop-yarn/staging/root/.staging/job_1701294727207_0001\n",
      "2023-11-30 01:11:04 INFO  FileInputFormat:300 - Total input files to process : 15\n",
      "2023-11-30 01:11:05 INFO  JobSubmitter:202 - number of splits:15\n",
      "2023-11-30 01:11:05 INFO  JobSubmitter:298 - Submitting tokens for job: job_1701294727207_0001\n",
      "2023-11-30 01:11:05 INFO  JobSubmitter:299 - Executing with tokens: []\n",
      "2023-11-30 01:11:05 INFO  Configuration:2854 - resource-types.xml not found\n",
      "2023-11-30 01:11:05 INFO  ResourceUtils:476 - Unable to find 'resource-types.xml'.\n",
      "2023-11-30 01:11:06 INFO  YarnClientImpl:338 - Submitted application application_1701294727207_0001\n",
      "2023-11-30 01:11:06 INFO  Job:1682 - The url to track the job: http://resourcemanager:8088/proxy/application_1701294727207_0001/\n",
      "2023-11-30 01:11:06 INFO  Job:1727 - Running job: job_1701294727207_0001\n",
      "2023-11-30 01:11:25 INFO  Job:1748 - Job job_1701294727207_0001 running in uber mode : false\n",
      "2023-11-30 01:11:26 INFO  Job:1755 -  map 0% reduce 0%\n",
      "2023-11-30 01:11:46 INFO  Job:1755 -  map 20% reduce 0%\n",
      "2023-11-30 01:12:03 INFO  Job:1755 -  map 33% reduce 0%\n",
      "2023-11-30 01:12:04 INFO  Job:1755 -  map 40% reduce 0%\n",
      "2023-11-30 01:12:18 INFO  Job:1755 -  map 53% reduce 0%\n",
      "2023-11-30 01:12:26 INFO  Job:1755 -  map 60% reduce 0%\n",
      "2023-11-30 01:12:27 INFO  Job:1755 -  map 67% reduce 0%\n",
      "2023-11-30 01:12:30 INFO  Job:1755 -  map 67% reduce 22%\n",
      "2023-11-30 01:12:34 INFO  Job:1755 -  map 73% reduce 22%\n",
      "2023-11-30 01:12:35 INFO  Job:1755 -  map 80% reduce 22%\n",
      "2023-11-30 01:12:36 INFO  Job:1755 -  map 80% reduce 27%\n",
      "2023-11-30 01:12:43 INFO  Job:1755 -  map 87% reduce 27%\n",
      "2023-11-30 01:12:44 INFO  Job:1755 -  map 93% reduce 27%\n",
      "2023-11-30 01:12:48 INFO  Job:1755 -  map 93% reduce 31%\n",
      "2023-11-30 01:12:49 INFO  Job:1755 -  map 100% reduce 31%\n",
      "2023-11-30 01:12:50 INFO  Job:1755 -  map 100% reduce 100%\n",
      "2023-11-30 01:12:51 INFO  Job:1766 - Job job_1701294727207_0001 completed successfully\n",
      "2023-11-30 01:12:52 INFO  Job:1773 - Counters: 54\n",
      "\tFile System Counters\n",
      "\t\tFILE: Number of bytes read=336\n",
      "\t\tFILE: Number of bytes written=4461026\n",
      "\t\tFILE: Number of read operations=0\n",
      "\t\tFILE: Number of large read operations=0\n",
      "\t\tFILE: Number of write operations=0\n",
      "\t\tHDFS: Number of bytes read=3875\n",
      "\t\tHDFS: Number of bytes written=215\n",
      "\t\tHDFS: Number of read operations=65\n",
      "\t\tHDFS: Number of large read operations=0\n",
      "\t\tHDFS: Number of write operations=3\n",
      "\t\tHDFS: Number of bytes read erasure-coded=0\n",
      "\tJob Counters \n",
      "\t\tLaunched map tasks=15\n",
      "\t\tLaunched reduce tasks=1\n",
      "\t\tRack-local map tasks=15\n",
      "\t\tTotal time spent by all maps in occupied slots (ms)=319124\n",
      "\t\tTotal time spent by all reduces in occupied slots (ms)=85120\n",
      "\t\tTotal time spent by all map tasks (ms)=159562\n",
      "\t\tTotal time spent by all reduce tasks (ms)=42560\n",
      "\t\tTotal vcore-milliseconds taken by all map tasks=159562\n",
      "\t\tTotal vcore-milliseconds taken by all reduce tasks=42560\n",
      "\t\tTotal megabyte-milliseconds taken by all map tasks=163391488\n",
      "\t\tTotal megabyte-milliseconds taken by all reduce tasks=43581440\n",
      "\tMap-Reduce Framework\n",
      "\t\tMap input records=15\n",
      "\t\tMap output records=30\n",
      "\t\tMap output bytes=270\n",
      "\t\tMap output materialized bytes=420\n",
      "\t\tInput split bytes=2105\n",
      "\t\tCombine input records=0\n",
      "\t\tCombine output records=0\n",
      "\t\tReduce input groups=2\n",
      "\t\tReduce shuffle bytes=420\n",
      "\t\tReduce input records=30\n",
      "\t\tReduce output records=0\n",
      "\t\tSpilled Records=60\n",
      "\t\tShuffled Maps =15\n",
      "\t\tFailed Shuffles=0\n",
      "\t\tMerged Map outputs=15\n",
      "\t\tGC time elapsed (ms)=5969\n",
      "\t\tCPU time spent (ms)=13650\n",
      "\t\tPhysical memory (bytes) snapshot=4382822400\n",
      "\t\tVirtual memory (bytes) snapshot=40530612224\n",
      "\t\tTotal committed heap usage (bytes)=3409969152\n",
      "\t\tPeak Map Physical memory (bytes)=438706176\n",
      "\t\tPeak Map Virtual memory (bytes)=2540720128\n",
      "\t\tPeak Reduce Physical memory (bytes)=210927616\n",
      "\t\tPeak Reduce Virtual memory (bytes)=2539388928\n",
      "\tShuffle Errors\n",
      "\t\tBAD_ID=0\n",
      "\t\tCONNECTION=0\n",
      "\t\tIO_ERROR=0\n",
      "\t\tWRONG_LENGTH=0\n",
      "\t\tWRONG_MAP=0\n",
      "\t\tWRONG_REDUCE=0\n",
      "\tFile Input Format Counters \n",
      "\t\tBytes Read=1770\n",
      "\tFile Output Format Counters \n",
      "\t\tBytes Written=97\n",
      "Job Finished in 109.259 seconds\n",
      "Estimated value of Pi is 3.14162962962962962963\n"
     ]
    }
   ],
   "source": [
    "!hadoop jar /opt/hadoop/share/hadoop/mapreduce/hadoop-mapreduce-examples-3.3.6.jar pi 15 1800"
   ]
  }
 ],
 "metadata": {
  "kernelspec": {
   "display_name": "Python 3 (ipykernel)",
   "language": "python",
   "name": "python3"
  },
  "language_info": {
   "codemirror_mode": {
    "name": "ipython",
    "version": 3
   },
   "file_extension": ".py",
   "mimetype": "text/x-python",
   "name": "python",
   "nbconvert_exporter": "python",
   "pygments_lexer": "ipython3",
   "version": "3.10.12"
  }
 },
 "nbformat": 4,
 "nbformat_minor": 5
}
